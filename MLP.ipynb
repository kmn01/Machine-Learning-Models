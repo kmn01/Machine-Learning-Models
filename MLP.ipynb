{
  "nbformat": 4,
  "nbformat_minor": 0,
  "metadata": {
    "colab": {
      "name": "Q2_MLP.ipynb",
      "provenance": [],
      "collapsed_sections": []
    },
    "kernelspec": {
      "name": "python3",
      "display_name": "Python 3"
    },
    "language_info": {
      "name": "python"
    }
  },
  "cells": [
    {
      "cell_type": "code",
      "metadata": {
        "colab": {
          "base_uri": "https://localhost:8080/"
        },
        "id": "HBUL7_TKjTM7",
        "outputId": "8e775cd5-b4ea-4248-91f1-855dfecf224b"
      },
      "source": [
        "!pip install idx2numpy\n",
        "import idx2numpy\n",
        "from google.colab.patches import cv2_imshow\n",
        "from PIL import Image\n",
        "import random\n",
        "import math\n",
        "import pickle\n",
        "import cv2 as cv\n",
        "import numpy as np\n",
        "import pandas as pd\n",
        "import seaborn as sns\n",
        "import matplotlib.pyplot as plt\n",
        "from sklearn import metrics\n",
        "from sklearn import linear_model\n",
        "from sklearn.model_selection import train_test_split"
      ],
      "execution_count": 1,
      "outputs": [
        {
          "output_type": "stream",
          "name": "stdout",
          "text": [
            "Collecting idx2numpy\n",
            "  Downloading idx2numpy-1.2.3.tar.gz (6.8 kB)\n",
            "Requirement already satisfied: numpy in /usr/local/lib/python3.7/dist-packages (from idx2numpy) (1.19.5)\n",
            "Requirement already satisfied: six in /usr/local/lib/python3.7/dist-packages (from idx2numpy) (1.15.0)\n",
            "Building wheels for collected packages: idx2numpy\n",
            "  Building wheel for idx2numpy (setup.py) ... \u001b[?25l\u001b[?25hdone\n",
            "  Created wheel for idx2numpy: filename=idx2numpy-1.2.3-py3-none-any.whl size=7919 sha256=b83f1a4e1197f2e252fd69306ec2886d2aa89483655e589ae5b5dedb55f651dc\n",
            "  Stored in directory: /root/.cache/pip/wheels/1a/ce/ad/d5e95a35cfe34149aade5e500f2edd535c0566d79e9a8e1d8a\n",
            "Successfully built idx2numpy\n",
            "Installing collected packages: idx2numpy\n",
            "Successfully installed idx2numpy-1.2.3\n"
          ]
        }
      ]
    },
    {
      "cell_type": "code",
      "metadata": {
        "colab": {
          "base_uri": "https://localhost:8080/"
        },
        "id": "K6Fs-OxJkl3C",
        "outputId": "12b90bac-9fa2-4477-c270-42f0c4587446"
      },
      "source": [
        "# dataset import\n",
        "from google.colab import drive\n",
        "drive.mount('/content/drive')\n",
        "%cd /content/drive/MyDrive/ML\n",
        "\n",
        "x_train = idx2numpy.convert_from_file('train-images.idx3-ubyte')\n",
        "y_train = idx2numpy.convert_from_file('train-labels.idx1-ubyte')\n",
        "x_test = idx2numpy.convert_from_file('t10k-images.idx3-ubyte')\n",
        "y_test = idx2numpy.convert_from_file('t10k-labels.idx1-ubyte')"
      ],
      "execution_count": 2,
      "outputs": [
        {
          "output_type": "stream",
          "name": "stdout",
          "text": [
            "Mounted at /content/drive\n",
            "/content/drive/MyDrive/ML\n"
          ]
        }
      ]
    },
    {
      "cell_type": "code",
      "metadata": {
        "colab": {
          "base_uri": "https://localhost:8080/"
        },
        "id": "nGGUGdR9jlHa",
        "outputId": "8b801b14-aa3a-49d8-f305-ecdc8bcf7366"
      },
      "source": [
        "# size of dataset\n",
        "\n",
        "print(x_train.shape, y_train.shape, x_test.shape, y_test.shape)"
      ],
      "execution_count": 3,
      "outputs": [
        {
          "output_type": "stream",
          "name": "stdout",
          "text": [
            "(60000, 28, 28) (60000,) (10000, 28, 28) (10000,)\n"
          ]
        }
      ]
    },
    {
      "cell_type": "code",
      "metadata": {
        "id": "TPCvATGJ2BvK",
        "colab": {
          "base_uri": "https://localhost:8080/"
        },
        "outputId": "7849c470-fabc-4b21-d822-8377427e6da7"
      },
      "source": [
        "# splitting data into test and train datasets\n",
        "def split_train_test(input, output, train_ratio=0.8):\n",
        "    x_train = []\n",
        "    y_train = []\n",
        "    x_test = input.tolist()\n",
        "    y_test = output.tolist()\n",
        "    train_size = math.floor(train_ratio * len(input))\n",
        "    \n",
        "    while len(x_train) < train_size:\n",
        "        index = random.randint(0, len(x_test)-1)\n",
        "        x_train.append(x_test.pop(index))\n",
        "        y_train.append(y_test.pop(index))\n",
        "    \n",
        "    return x_train, x_test, y_train, y_test\n",
        "\n",
        "# normalisation\n",
        "def normalise(data):\n",
        "    data = np.divide(data, 255)\n",
        "    return data\n",
        "\n",
        "# converting images to 1D arrays\n",
        "train_num_samples, train_dim1, train_dim2 = x_train.shape\n",
        "test_num_samples, test_dim1, test_dim2 = x_test.shape\n",
        "x_train = x_train.reshape(train_num_samples, train_dim1*train_dim2)\n",
        "x_test = x_test.reshape(test_num_samples, test_dim1*test_dim2)\n",
        "\n",
        "# combining train and test data\n",
        "x_train = np.concatenate((x_train, x_test), axis=0)\n",
        "y_train = np.concatenate((y_train, y_test), axis=0)\n",
        "\n",
        "# splitting into train, validation, test datasets\n",
        "random.seed(0)\n",
        "x_train, x_test, y_train, y_test = split_train_test(x_train, y_train, 0.9)\n",
        "x_train, x_val, y_train, y_val = split_train_test(np.array(x_train), np.array(y_train), 0.77)\n",
        "\n",
        "x_train = np.array(x_train)\n",
        "y_train = np.array(y_train)\n",
        "x_test = np.array(x_test)\n",
        "y_test = np.array(y_test)\n",
        "x_val = np.array(x_val)\n",
        "y_val = np.array(y_val)\n",
        "\n",
        "y_train = np.reshape(y_train, (y_train.shape[0], 1))\n",
        "y_test = np.reshape(y_test, (y_test.shape[0], 1))\n",
        "y_val = np.reshape(y_val, (y_val.shape[0], 1))\n",
        "print(x_train.shape, y_train.shape, x_test.shape, y_test.shape, x_val.shape, y_val.shape)\n",
        "\n",
        "x_train = normalise(x_train)\n",
        "x_val = normalise(x_val)"
      ],
      "execution_count": 4,
      "outputs": [
        {
          "output_type": "stream",
          "name": "stdout",
          "text": [
            "(48510, 784) (48510, 1) (7000, 784) (7000, 1) (14490, 784) (14490, 1)\n"
          ]
        }
      ]
    },
    {
      "cell_type": "code",
      "metadata": {
        "id": "eht5_7Q1n4Dk"
      },
      "source": [
        "class MyNeuralNetwork:\n",
        "    def __init__(self, random_state=0, n_layers=4, layer_sizes=[256, 128, 64, 32], activation='sigmoid', learning_rate=0.08, weights_init='normal_init', batch_size=None, num_epochs=150):\n",
        "        self.random_state = random_state\n",
        "        self.n_layers = n_layers+2\n",
        "        self.layer_sizes = layer_sizes\n",
        "        self.activation = activation\n",
        "        self.learning_rate = learning_rate\n",
        "        self.num_epochs = num_epochs\n",
        "        self.weights_init = weights_init\n",
        "        self.batch_size = batch_size\n",
        "        self.accuracy = 0\n",
        "        self.num_classes = 10\n",
        "        self.weights = []\n",
        "        self.bias = []\n",
        "        self.v_val = []\n",
        "        self.layers = []\n",
        "        self.errors = []\n",
        "        self.updates = []\n",
        "        self.updates_b = []\n",
        "        self.train_losses = []\n",
        "        self.val_losses = []\n",
        "        self.y_pred = []\n",
        "\n",
        "    def fit(self, x_train, y_train, x_val=None, y_val=None):\n",
        "        x_train = x_train.T\n",
        "        y_train = y_train.T\n",
        "        num_samples = x_train.shape[1]\n",
        "        y_train = self.encoding(y_train)\n",
        "        if y_val is not None:\n",
        "            y_val = self.encoding(y_val)\n",
        "        act_fn = getattr(self, self.activation)\n",
        "        wt_init_fn = getattr(self, self.weights_init)\n",
        "        self.weights = wt_init_fn(x_train.shape[0], self.num_classes)\n",
        "        self.bias = self.bias_init(x_train.shape[0], self.num_classes)\n",
        "\n",
        "        for i  in range(self.num_epochs):\n",
        "\n",
        "            self.v_val = []\n",
        "            self.layers = []\n",
        "            self.errors = []\n",
        "            self.updates = []\n",
        "            self.updates_b = []\n",
        "            # Forward Phase\n",
        "            self.layers.append(x_train)\n",
        "            for j in range(self.n_layers-1):\n",
        "                layer = np.dot(self.weights[j].T, self.layers[j]) + self.bias[j]\n",
        "                self.v_val.append(layer)\n",
        "                self.layers.append(act_fn(layer))\n",
        "            layer = np.dot(self.weights[j].T, self.layers[j]) + self.bias[j]\n",
        "            prob = self.softmax(layer)\n",
        "            self.v_val.append(layer)\n",
        "            self.layers.append(prob)\n",
        "\n",
        "            # Backward Phase\n",
        "            train_loss = self.cross_entropy_loss(y_train, self.layers[-1])\n",
        "            error = y_train-self.layers[-1]\n",
        "            self.errors.append(error)\n",
        "            update = error*self.softmax(self.layers[-1], deriv=True)/num_samples\n",
        "            self.updates.append(update)\n",
        "            update_b = np.sum(error, axis=1, keepdims=True)/num_samples\n",
        "            self.updates_b.append(update_b)\n",
        "            for j in reversed(range(self.n_layers-1)):\n",
        "                error = np.dot(self.weights[j], update)\n",
        "                self.errors.insert(0, error)\n",
        "                update = error*act_fn(self.layers[j], deriv=True)/num_samples\n",
        "                self.updates.insert(0, update)\n",
        "                update_b = np.sum(error, axis=1, keepdims=True)/num_samples\n",
        "                self.updates_b.insert(0, update_b)\n",
        "\n",
        "            for j in range(self.n_layers-1):\n",
        "                self.weights[j] += self.learning_rate*np.dot(self.layers[j], self.updates[j+1].T)\n",
        "                self.bias[j] += self.learning_rate*self.updates_b[j+1]\n",
        "\n",
        "            self.train_losses.append(np.mean(np.abs(train_loss)))\n",
        "\n",
        "            if x_val is not None:\n",
        "                val_prob = self.predict_proba(x_val)\n",
        "                val_loss = self.cross_entropy_loss(y_val, val_prob)\n",
        "                self.val_losses.append(np.mean(np.abs(val_loss)))\n",
        "\n",
        "        self.accuracy = (1-self.train_losses[-1])*100\n",
        "\n",
        "    def predict_proba(self, x):\n",
        "        x = x.T\n",
        "        act_fn = getattr(self, self.activation)\n",
        "        predict_layers = []\n",
        "        predict_layers.append(x)\n",
        "        for i in range(self.n_layers-1):\n",
        "            layer = np.dot(self.weights[i].T, predict_layers[i])\n",
        "            predict_layers.append(act_fn(layer))\n",
        "        layer = np.dot(self.weights[i].T, predict_layers[i])\n",
        "        prob = self.softmax(layer)\n",
        "        predict_layers.append(prob)\n",
        "        return prob\n",
        "\n",
        "    def predict(self, x):\n",
        "        prob = self.predict_proba(x)\n",
        "        num_samples = x.shape[0]\n",
        "        self.y_pred = np.zeros(num_samples)\n",
        "        for i in range(num_samples):\n",
        "            self.y_pred[i] = np.argmax(prob[:, i])\n",
        "        return self.y_pred\n",
        "\n",
        "    def score(self, x, y):\n",
        "        y_pred = self.predict(x)\n",
        "        ctr = 0\n",
        "        for i in range(len(y)):\n",
        "            if y_pred[i] == y[i]:\n",
        "                ctr += 1\n",
        "        accuracy = ctr/len(y)\n",
        "        return accuracy\n",
        "\n",
        "    def cross_entropy_loss(self, y, y_prob):\n",
        "        loss = - np.sum(y*np.log2(y_prob))\n",
        "        return loss/y.shape[0]\n",
        "    def encoding(self, y):\n",
        "        num_samples = y.shape[0]\n",
        "        encoded = np.zeros((self.num_classes, num_samples))\n",
        "        for i in range(num_samples):\n",
        "            encoded[y[i]][i] = 1\n",
        "        return encoded\n",
        "\n",
        "# activation functions\n",
        "    def relu(self, x, deriv=False):\n",
        "        if deriv == False:\n",
        "            return np.maximum(0.0, x)\n",
        "        else:\n",
        "            return np.maximum(0.0, np.sign(x))\n",
        "    def leaky_relu(self, x, deriv=False):\n",
        "        if deriv == False:\n",
        "            return np.maximum(0.01*x, x)\n",
        "        else:\n",
        "            return np.maximum(0.01, np.sign(x))\n",
        "    def sigmoid(self, x, deriv=False):\n",
        "        if deriv == False:\n",
        "            return 1/(1 + np.exp(-x))\n",
        "        else:\n",
        "            return self.sigmoid(x)*(1 - self.sigmoid(x))\n",
        "    def tanh(self, x, deriv=False):\n",
        "        if deriv == False:\n",
        "            return (np.exp(x) - np.exp(-x))/(np.exp(x) + np.exp(-x))\n",
        "        else:\n",
        "            return 1 - self.tanh(x)*self.tanh(x)\n",
        "    def linear(self, x, deriv=False):\n",
        "        if deriv == False:\n",
        "            return x\n",
        "        else:   \n",
        "            return np.ones(x.shape)\n",
        "    def softmax2(self, x, deriv=False):\n",
        "        if deriv == False:\n",
        "            return np.exp(x)/np.sum(np.exp(x))\n",
        "        else:\n",
        "            return self.softmax(x)*(1 - self.softmax(x))\n",
        "    def softmax(self, x, deriv=False):\n",
        "        if deriv == False:\n",
        "            return np.exp(x)/np.sum(np.exp(x), axis = 1, keepdims=True)\n",
        "        else:\n",
        "            return self.softmax(x)*(1 - self.softmax(x))\n",
        "\n",
        "# bias initialization\n",
        "    def bias_init(self, inp, out):\n",
        "        random.seed(self.random_state)\n",
        "        bias = []\n",
        "        for i in range(len(self.layer_sizes)):\n",
        "            bias.append(np.zeros((self.layer_sizes[i], 1)))\n",
        "        bias.append(np.zeros((out, 1)))\n",
        "        return bias   \n",
        "\n",
        "# weight initialisation \n",
        "    def zero_init(self, inp, out):\n",
        "        random.seed(self.random_state)\n",
        "        weights = []\n",
        "        weights.append(np.zeros((inp, self.layer_sizes[0])))\n",
        "        for i in range(len(self.layer_sizes)-1):\n",
        "            weights.append(np.zeros((self.layesizes[i], self.layer_sizes[i+1])))\n",
        "        weights.append(np.zeros((self.layer_sr_izes[-1], out)))\n",
        "        return weights\n",
        "    def random_init(self, inp, out):\n",
        "        random.seed(self.random_state)\n",
        "        weights = []\n",
        "        weights.append(0.01*np.random.random((inp, self.layer_sizes[0])))\n",
        "        for i in range(len(self.layer_sizes)-1):\n",
        "            weights.append(0.01*np.random.random((self.layer_sizes[i], self.layer_sizes[i+1])))\n",
        "        weights.append(0.01*np.random.random((self.layer_sizes[-1], out)))\n",
        "        return weights\n",
        "    def normal_init(self, inp, out):\n",
        "        random.seed(self.random_state)\n",
        "        weights = []\n",
        "        weights.append(0.01*np.random.normal(0.0, 1.0, (inp, self.layer_sizes[0])))\n",
        "        for i in range(len(self.layer_sizes)-1):\n",
        "            weights.append(0.01*np.random.normal(0.0, 1.0, (self.layer_sizes[i], self.layer_sizes[i+1])))\n",
        "        weights.append(0.01*np.random.normal(0.0, 1.0, (self.layer_sizes[-1], out)))\n",
        "        return weights"
      ],
      "execution_count": 12,
      "outputs": []
    },
    {
      "cell_type": "code",
      "metadata": {
        "id": "Sf2ZIA4CnfjF",
        "colab": {
          "base_uri": "https://localhost:8080/"
        },
        "outputId": "047f759c-2a58-4752-c1cd-cf1796f05403"
      },
      "source": [
        "# relu\n",
        "\n",
        "mnn = MyNeuralNetwork(random_state=0, activation='relu', num_epochs=150, layer_sizes=[256, 128, 64, 32], learning_rate=0.08)\n",
        "mnn.fit(x_train, y_train.ravel(), x_val, y_val.ravel())\n",
        "mnn.predict(x_test)\n",
        "print('Test accuracy:', mnn.score(x_test, y_test))"
      ],
      "execution_count": 13,
      "outputs": [
        {
          "output_type": "stream",
          "name": "stdout",
          "text": [
            "Test accuracy: 0.09657142857142857\n"
          ]
        }
      ]
    },
    {
      "cell_type": "code",
      "metadata": {
        "id": "VCO1VcLF15Bb"
      },
      "source": [
        "filename = 'relu'\n",
        "pickle.dump(mnn, open(filename, 'wb'))\n",
        "# loaded_model = pickle.load(open(filename, 'rb'))"
      ],
      "execution_count": 14,
      "outputs": []
    },
    {
      "cell_type": "code",
      "metadata": {
        "id": "UOtOzBZSjmhn"
      },
      "source": [
        "plt.figure(figsize=(10,6))\n",
        "plt.plot(mnn.train_losses, label='train loss')\n",
        "if len(mnn.val_losses)>0:\n",
        "    plt.plot(mnn.val_losses, label='val loss')\n",
        "plt.title('ReLU')\n",
        "plt.xlabel('epochs')\n",
        "plt.ylabel('cost')\n",
        "plt.legend()\n",
        "plt.show()"
      ],
      "execution_count": null,
      "outputs": []
    },
    {
      "cell_type": "markdown",
      "metadata": {
        "id": "yQe-9ex6PcYi"
      },
      "source": [
        "**Leaky ReLU**"
      ]
    },
    {
      "cell_type": "code",
      "metadata": {
        "id": "tfszyC_BdIDD",
        "colab": {
          "base_uri": "https://localhost:8080/"
        },
        "outputId": "ff895a39-8cfa-40f2-cbb7-0cca0e719717"
      },
      "source": [
        "# leaky relu\n",
        "\n",
        "mnn = MyNeuralNetwork(random_state=0, activation='leaky_relu', num_epochs=150, layer_sizes=[256, 128, 64, 32], learning_rate=0.08)\n",
        "mnn.fit(x_train, y_train.ravel(), x_val, y_val.ravel())\n",
        "mnn.predict(x_test)\n",
        "print('Test accuracy:', mnn.score(x_test, y_test))"
      ],
      "execution_count": 37,
      "outputs": [
        {
          "output_type": "stream",
          "name": "stdout",
          "text": [
            "Test accuracy: 0.103\n"
          ]
        }
      ]
    },
    {
      "cell_type": "code",
      "metadata": {
        "id": "zwJoIfFqPQkW"
      },
      "source": [
        "filename = 'Leaky_relu'\n",
        "pickle.dump(mnn, open(filename, 'wb'))"
      ],
      "execution_count": 38,
      "outputs": []
    },
    {
      "cell_type": "code",
      "metadata": {
        "id": "OP2QLeHQPbjJ"
      },
      "source": [
        "plt.figure(figsize=(10,6))\n",
        "plt.plot(mnn.train_losses, label='train loss')\n",
        "if len(mnn.val_losses)>0:\n",
        "    plt.plot(mnn.val_losses, label='val loss')\n",
        "plt.title('Leaky ReLU')\n",
        "plt.xlabel('epochs')\n",
        "plt.ylabel('cost')\n",
        "plt.legend()\n",
        "plt.show()"
      ],
      "execution_count": null,
      "outputs": []
    },
    {
      "cell_type": "markdown",
      "metadata": {
        "id": "AWTb8FaYPfMR"
      },
      "source": [
        "**Sigmoid**"
      ]
    },
    {
      "cell_type": "code",
      "metadata": {
        "id": "1LYK--KRc7L3",
        "colab": {
          "base_uri": "https://localhost:8080/"
        },
        "outputId": "58beefa4-cf5d-4a2f-d3a0-d3c1ea59328e"
      },
      "source": [
        "# sigmoid\n",
        "\n",
        "mnn = MyNeuralNetwork(random_state=0, activation='sigmoid', num_epochs=150, layer_sizes=[256, 128, 64, 32], learning_rate=0.08)\n",
        "mnn.fit(x_train, y_train.ravel(), x_val, y_val.ravel())\n",
        "mnn.predict(x_test)\n",
        "print('Test accuracy:', mnn.score(x_test, y_test))"
      ],
      "execution_count": 34,
      "outputs": [
        {
          "output_type": "stream",
          "name": "stdout",
          "text": [
            "Test accuracy: 0.08628571428571429\n"
          ]
        }
      ]
    },
    {
      "cell_type": "code",
      "metadata": {
        "id": "t_YAdLusPSjT"
      },
      "source": [
        "filename = 'Sigmoid'\n",
        "pickle.dump(mnn, open(filename, 'wb'))"
      ],
      "execution_count": 35,
      "outputs": []
    },
    {
      "cell_type": "code",
      "metadata": {
        "id": "RAf4FteOPm4B"
      },
      "source": [
        "plt.figure(figsize=(10,6))\n",
        "plt.plot(mnn.train_losses, label='train loss')\n",
        "if len(mnn.val_losses)>0:\n",
        "    plt.plot(mnn.val_losses, label='val loss')\n",
        "plt.title('Sigmoid')\n",
        "plt.xlabel('epochs')\n",
        "plt.ylabel('cost')\n",
        "plt.legend()\n",
        "plt.show()"
      ],
      "execution_count": null,
      "outputs": []
    },
    {
      "cell_type": "markdown",
      "metadata": {
        "id": "0TMS5h-8Pg9O"
      },
      "source": [
        "**Tanh**"
      ]
    },
    {
      "cell_type": "code",
      "metadata": {
        "id": "Yd5z8dDVc8u2"
      },
      "source": [
        "# tanh\n",
        "\n",
        "mnn = MyNeuralNetwork(random_state=0, activation='tanh', num_epochs=150, layer_sizes=[256, 128, 64, 32], learning_rate=0.08)\n",
        "mnn.fit(x_train, y_train.ravel(), x_val, y_val.ravel())\n",
        "mnn.predict(x_test)\n",
        "print('Test accuracy:', mnn.score(x_test, y_test))"
      ],
      "execution_count": null,
      "outputs": []
    },
    {
      "cell_type": "code",
      "metadata": {
        "id": "4ldZnvydPpoq"
      },
      "source": [
        "filename = 'Tanh'\n",
        "pickle.dump(mnn, open(filename, 'wb'))"
      ],
      "execution_count": null,
      "outputs": []
    },
    {
      "cell_type": "code",
      "metadata": {
        "id": "zDE6Xx6TPoyP"
      },
      "source": [
        "plt.figure(figsize=(10,6))\n",
        "plt.plot(mnn.train_losses, label='train loss')\n",
        "if len(mnn.val_losses)>0:\n",
        "    plt.plot(mnn.val_losses, label='val loss')\n",
        "plt.title('Tanh')\n",
        "plt.xlabel('epochs')\n",
        "plt.ylabel('cost')\n",
        "plt.legend()\n",
        "plt.show()"
      ],
      "execution_count": null,
      "outputs": []
    },
    {
      "cell_type": "markdown",
      "metadata": {
        "id": "1uJ62hy2PqoF"
      },
      "source": [
        "**Softmax**"
      ]
    },
    {
      "cell_type": "code",
      "metadata": {
        "id": "YGMtAUrYdOfP",
        "colab": {
          "base_uri": "https://localhost:8080/"
        },
        "outputId": "7e940b80-a97b-4677-a509-a3054b394c18"
      },
      "source": [
        "# softmax\n",
        "\n",
        "mnn = MyNeuralNetwork(random_state=0, activation='softmax2', num_epochs=150, layer_sizes=[256, 128, 64, 32], learning_rate=0.08)\n",
        "mnn.fit(x_train, y_train.ravel(), x_val, y_val.ravel())\n",
        "mnn.predict(x_test)\n",
        "print('Test accuracy:', mnn.score(x_test, y_test))"
      ],
      "execution_count": 31,
      "outputs": [
        {
          "output_type": "stream",
          "name": "stdout",
          "text": [
            "Test accuracy: 0.092\n"
          ]
        }
      ]
    },
    {
      "cell_type": "code",
      "metadata": {
        "id": "AD6D1Cz5PUPX"
      },
      "source": [
        "filename = 'Softmax'\n",
        "pickle.dump(mnn, open(filename, 'wb'))"
      ],
      "execution_count": 32,
      "outputs": []
    },
    {
      "cell_type": "code",
      "metadata": {
        "id": "QNAYALcnP41N"
      },
      "source": [
        "plt.figure(figsize=(10,6))\n",
        "plt.plot(mnn.train_losses, label='train loss')\n",
        "if len(mnn.val_losses)>0:\n",
        "    plt.plot(mnn.val_losses, label='val loss')\n",
        "plt.title('Softmax')\n",
        "plt.xlabel('epochs')\n",
        "plt.ylabel('cost')\n",
        "plt.legend()\n",
        "plt.show()"
      ],
      "execution_count": null,
      "outputs": []
    },
    {
      "cell_type": "markdown",
      "metadata": {
        "id": "QHq_Z1yuPsbi"
      },
      "source": [
        "**Linear**"
      ]
    },
    {
      "cell_type": "code",
      "metadata": {
        "id": "civRm7audNG_",
        "colab": {
          "base_uri": "https://localhost:8080/"
        },
        "outputId": "58e94306-e378-4502-b394-4521de31c151"
      },
      "source": [
        "# linear\n",
        "\n",
        "mnn = MyNeuralNetwork(random_state=0, activation='linear', num_epochs=150, layer_sizes=[256, 128, 64, 32], learning_rate=0.08)\n",
        "mnn.fit(x_train, y_train.ravel(), x_val, y_val.ravel())\n",
        "mnn.predict(x_test)\n",
        "print('Test accuracy:', mnn.score(x_test, y_test))"
      ],
      "execution_count": 28,
      "outputs": [
        {
          "output_type": "stream",
          "name": "stdout",
          "text": [
            "Test accuracy: 0.121\n"
          ]
        }
      ]
    },
    {
      "cell_type": "code",
      "metadata": {
        "id": "LH4SJgGBPWFL"
      },
      "source": [
        "filename = 'Linear'\n",
        "pickle.dump(mnn, open(filename, 'wb'))"
      ],
      "execution_count": 29,
      "outputs": []
    },
    {
      "cell_type": "code",
      "metadata": {
        "id": "dQv1g1T8P1mb"
      },
      "source": [
        "plt.figure(figsize=(10,6))\n",
        "plt.plot(mnn.train_losses, label='train loss')\n",
        "if len(mnn.val_losses)>0:\n",
        "    plt.plot(mnn.val_losses, label='val loss')\n",
        "plt.title('Linear')\n",
        "plt.xlabel('epochs')\n",
        "plt.ylabel('cost')\n",
        "plt.legend()\n",
        "plt.show()"
      ],
      "execution_count": null,
      "outputs": []
    },
    {
      "cell_type": "markdown",
      "metadata": {
        "id": "t5iQNmaKPuol"
      },
      "source": [
        "**Varying learning rate**"
      ]
    },
    {
      "cell_type": "code",
      "metadata": {
        "id": "R1wqc9qAdq0G"
      },
      "source": [
        "# variation with learning rate\n",
        "\n",
        "rates = [0.001, 0.01, 0.1, 1]\n",
        "for rate in rates:\n",
        "    mnn = MyNeuralNetwork(random_state=0, activation='relu', num_epochs=150, layer_sizes=[256, 128, 64, 32], learning_rate=rate)\n",
        "    mnn.fit(x_train, y_train.ravel())\n",
        "    mnn.predict(x_test)\n",
        "    print('Test accuracy:', mnn.score(x_test, y_test), 'for learning rate', rate)"
      ],
      "execution_count": null,
      "outputs": []
    },
    {
      "cell_type": "markdown",
      "metadata": {
        "id": "d_gKA6Gqtgcf"
      },
      "source": [
        "# Using sklearn"
      ]
    },
    {
      "cell_type": "code",
      "metadata": {
        "colab": {
          "base_uri": "https://localhost:8080/"
        },
        "id": "b-hoJqV0tjbD",
        "outputId": "c7a1e8d8-19d2-4116-b6f4-d49b0bad2315"
      },
      "source": [
        "from sklearn.neural_network import MLPClassifier\n",
        "mlpc = MLPClassifier(random_state=0, activation='relu', max_iter=150, hidden_layer_sizes=[256, 128, 64, 32], learning_rate_init=0.08).fit(x_train, y_train.ravel())\n",
        "mlpc.predict_proba(x_test)\n",
        "mlpc.predict(x_test)\n",
        "mlpc.score(x_test, y_test)"
      ],
      "execution_count": 25,
      "outputs": [
        {
          "output_type": "execute_result",
          "data": {
            "text/plain": [
              "0.2827142857142857"
            ]
          },
          "metadata": {},
          "execution_count": 25
        }
      ]
    },
    {
      "cell_type": "code",
      "metadata": {
        "colab": {
          "base_uri": "https://localhost:8080/",
          "height": 404
        },
        "id": "4WCO3zmvZo0-",
        "outputId": "e70df722-e670-41ed-e51c-430f89eb2dd7"
      },
      "source": [
        "plt.figure(figsize=(10,6))\n",
        "plt.plot(mlpc.loss_curve_, label='train loss')\n",
        "plt.title('ReLU')\n",
        "plt.xlabel('epochs')\n",
        "plt.ylabel('cost')\n",
        "plt.legend()\n",
        "plt.show()"
      ],
      "execution_count": 27,
      "outputs": [
        {
          "output_type": "display_data",
          "data": {
            "image/png": "[encoded data removed]",
            "text/plain": [
              "<Figure size 720x432 with 1 Axes>"
            ]
          },
          "metadata": {
            "needs_background": "light"
          }
        }
      ]
    },
    {
      "cell_type": "code",
      "metadata": {
        "colab": {
          "base_uri": "https://localhost:8080/"
        },
        "id": "V550w85bwyRE",
        "outputId": "fab68c09-a92e-4a94-87e0-9fff85d28a4c"
      },
      "source": [
        "mlpc = MLPClassifier(random_state=0, activation='logistic', max_iter=150, hidden_layer_sizes=[256, 128, 64, 32], learning_rate_init=0.08).fit(x_train, y_train.ravel())\n",
        "mlpc.predict_proba(x_test)\n",
        "mlpc.predict(x_test)\n",
        "mlpc.score(x_test, y_test)"
      ],
      "execution_count": 18,
      "outputs": [
        {
          "output_type": "execute_result",
          "data": {
            "text/plain": [
              "0.10214285714285715"
            ]
          },
          "metadata": {},
          "execution_count": 18
        }
      ]
    },
    {
      "cell_type": "code",
      "metadata": {
        "colab": {
          "base_uri": "https://localhost:8080/",
          "height": 404
        },
        "id": "gyS3HuSbXKL1",
        "outputId": "23e8d816-6484-43ec-f8af-b856d7ce573d"
      },
      "source": [
        "plt.figure(figsize=(10,6))\n",
        "plt.plot(mlpc.loss_curve_, label='train loss')\n",
        "plt.title('Logistic')\n",
        "plt.xlabel('epochs')\n",
        "plt.ylabel('cost')\n",
        "plt.legend()\n",
        "plt.show()"
      ],
      "execution_count": 20,
      "outputs": [
        {
          "output_type": "display_data",
          "data": {
            "image/png": "[encoded data removed]",
            "text/plain": [
              "<Figure size 720x432 with 1 Axes>"
            ]
          },
          "metadata": {
            "needs_background": "light"
          }
        }
      ]
    },
    {
      "cell_type": "code",
      "metadata": {
        "colab": {
          "base_uri": "https://localhost:8080/"
        },
        "id": "YBf7DxH_w3bO",
        "outputId": "871ff214-8097-4548-ca87-2e0a0ea7b31f"
      },
      "source": [
        "mlpc = MLPClassifier(random_state=0, activation='tanh', max_iter=150, hidden_layer_sizes=[256, 128, 64, 32], learning_rate_init=0.08).fit(x_train, y_train.ravel())\n",
        "mlpc.predict_proba(x_test)\n",
        "mlpc.predict(x_test)\n",
        "mlpc.score(x_test, y_test)"
      ],
      "execution_count": 21,
      "outputs": [
        {
          "output_type": "execute_result",
          "data": {
            "text/plain": [
              "0.10571428571428572"
            ]
          },
          "metadata": {},
          "execution_count": 21
        }
      ]
    },
    {
      "cell_type": "code",
      "metadata": {
        "colab": {
          "base_uri": "https://localhost:8080/",
          "height": 404
        },
        "id": "JrUNP9Vla4l8",
        "outputId": "0c94e763-ee39-4bd9-d37a-860c2ec7dec7"
      },
      "source": [
        "plt.figure(figsize=(10,6))\n",
        "plt.plot(mlpc.loss_curve_, label='train loss')\n",
        "plt.title('Tanh')\n",
        "plt.xlabel('epochs')\n",
        "plt.ylabel('cost')\n",
        "plt.legend()\n",
        "plt.show()"
      ],
      "execution_count": 22,
      "outputs": [
        {
          "output_type": "display_data",
          "data": {
            "image/png": "[encoded data removed]",
            "text/plain": [
              "<Figure size 720x432 with 1 Axes>"
            ]
          },
          "metadata": {
            "needs_background": "light"
          }
        }
      ]
    },
    {
      "cell_type": "code",
      "metadata": {
        "colab": {
          "base_uri": "https://localhost:8080/"
        },
        "id": "ZqjgIWPsw7Js",
        "outputId": "ce9b7942-3db2-4eec-891d-d5895b3b299c"
      },
      "source": [
        "mlpc = MLPClassifier(random_state=0, activation='identity', max_iter=150, hidden_layer_sizes=[256, 128, 64, 32], learning_rate_init=0.08).fit(x_train, y_train.ravel())\n",
        "mlpc.predict_proba(x_test)\n",
        "mlpc.predict(x_test)\n",
        "mlpc.score(x_test, y_test)"
      ],
      "execution_count": 23,
      "outputs": [
        {
          "output_type": "execute_result",
          "data": {
            "text/plain": [
              "0.88"
            ]
          },
          "metadata": {},
          "execution_count": 23
        }
      ]
    },
    {
      "cell_type": "code",
      "metadata": {
        "colab": {
          "base_uri": "https://localhost:8080/",
          "height": 404
        },
        "id": "JuPcLoYXa6SV",
        "outputId": "53d6bd1a-a913-438f-aec2-96647e4c0fed"
      },
      "source": [
        "plt.figure(figsize=(10,6))\n",
        "plt.plot(mlpc.loss_curve_, label='train loss')\n",
        "plt.title('Linear')\n",
        "plt.xlabel('epochs')\n",
        "plt.ylabel('cost')\n",
        "plt.legend()\n",
        "plt.show()"
      ],
      "execution_count": 24,
      "outputs": [
        {
          "output_type": "display_data",
          "data": {
            "image/png": "[encoded data removed]",
            "text/plain": [
              "<Figure size 720x432 with 1 Axes>"
            ]
          },
          "metadata": {
            "needs_background": "light"
          }
        }
      ]
    },
    {
      "cell_type": "markdown",
      "metadata": {
        "id": "yrkBkE3dfZpW"
      },
      "source": [
        "**Default Parameters**"
      ]
    },
    {
      "cell_type": "code",
      "metadata": {
        "colab": {
          "base_uri": "https://localhost:8080/"
        },
        "id": "vCrzA3ted7F1",
        "outputId": "81c462d3-c169-42a3-e9bc-12df70584dfa"
      },
      "source": [
        "from sklearn.neural_network import MLPClassifier\n",
        "mlpc = MLPClassifier(random_state=0, activation='relu').fit(x_train, y_train.ravel())\n",
        "mlpc.predict_proba(x_test)\n",
        "mlpc.predict(x_test)\n",
        "mlpc.score(x_test, y_test)"
      ],
      "execution_count": null,
      "outputs": [
        {
          "output_type": "execute_result",
          "data": {
            "text/plain": [
              "0.9741666666666666"
            ]
          },
          "metadata": {},
          "execution_count": 8
        }
      ]
    },
    {
      "cell_type": "code",
      "metadata": {
        "colab": {
          "base_uri": "https://localhost:8080/"
        },
        "id": "om_jz3aScZ5d",
        "outputId": "1d31bff9-1368-4940-aa5e-c5b4e234a2e9"
      },
      "source": [
        "from sklearn.neural_network import MLPClassifier\n",
        "mlpc = MLPClassifier(random_state=0, activation='logistic').fit(x_train, y_train.ravel())\n",
        "mlpc.predict_proba(x_test)\n",
        "mlpc.predict(x_test)\n",
        "mlpc.score(x_test, y_test)"
      ],
      "execution_count": null,
      "outputs": [
        {
          "output_type": "execute_result",
          "data": {
            "text/plain": [
              "0.966"
            ]
          },
          "metadata": {},
          "execution_count": 6
        }
      ]
    },
    {
      "cell_type": "code",
      "metadata": {
        "colab": {
          "base_uri": "https://localhost:8080/"
        },
        "id": "7f_ZN8-pfHno",
        "outputId": "b086ef95-49c2-4ae7-a35d-dabe1b7bb524"
      },
      "source": [
        "from sklearn.neural_network import MLPClassifier\n",
        "mlpc = MLPClassifier(random_state=0, activation='tanh').fit(x_train, y_train.ravel())\n",
        "mlpc.predict_proba(x_test)\n",
        "mlpc.predict(x_test)\n",
        "mlpc.score(x_test, y_test)"
      ],
      "execution_count": null,
      "outputs": [
        {
          "output_type": "execute_result",
          "data": {
            "text/plain": [
              "0.9595"
            ]
          },
          "metadata": {},
          "execution_count": 9
        }
      ]
    },
    {
      "cell_type": "code",
      "metadata": {
        "colab": {
          "base_uri": "https://localhost:8080/"
        },
        "id": "VTyBroFIfLFP",
        "outputId": "eead7e66-064f-4a1c-857f-22dcd781f6eb"
      },
      "source": [
        "from sklearn.neural_network import MLPClassifier\n",
        "mlpc = MLPClassifier(random_state=0, activation='identity').fit(x_train, y_train.ravel())\n",
        "mlpc.predict_proba(x_test)\n",
        "mlpc.predict(x_test)\n",
        "mlpc.score(x_test, y_test)"
      ],
      "execution_count": null,
      "outputs": [
        {
          "output_type": "execute_result",
          "data": {
            "text/plain": [
              "0.8526666666666667"
            ]
          },
          "metadata": {},
          "execution_count": 10
        }
      ]
    }
  ]
}