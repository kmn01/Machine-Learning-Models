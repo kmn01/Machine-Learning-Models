{
  "nbformat": 4,
  "nbformat_minor": 0,
  "metadata": {
    "colab": {
      "name": "Q2_LogisticRegression.ipynb",
      "provenance": [],
      "collapsed_sections": []
    },
    "kernelspec": {
      "name": "python3",
      "display_name": "Python 3"
    },
    "language_info": {
      "name": "python"
    }
  },
  "cells": [
    {
      "cell_type": "code",
      "metadata": {
        "id": "K_9aQp4-io00",
        "colab": {
          "base_uri": "https://localhost:8080/"
        },
        "outputId": "0f16d536-e448-4851-f910-769a9e599a10"
      },
      "source": [
        "import random\n",
        "import math\n",
        "import numpy as np\n",
        "import pandas as pd\n",
        "import seaborn as sns\n",
        "import matplotlib.pyplot as plt\n",
        "from sklearn import metrics\n",
        "from sklearn import linear_model\n",
        "from sklearn.model_selection import train_test_split\n",
        "\n",
        "# dataset import\n",
        "from google.colab import drive\n",
        "drive.mount('/content/drive')\n",
        "%cd /content/drive/MyDrive/ML\n",
        "data = pd.read_csv('diabetes_data.csv')"
      ],
      "execution_count": 40,
      "outputs": [
        {
          "output_type": "stream",
          "name": "stdout",
          "text": [
            "Drive already mounted at /content/drive; to attempt to forcibly remount, call drive.mount(\"/content/drive\", force_remount=True).\n",
            "/content/drive/MyDrive/ML\n"
          ]
        }
      ]
    },
    {
      "cell_type": "markdown",
      "metadata": {
        "id": "505NLVVcBOin"
      },
      "source": [
        "# Exploratory Data Analysis and Preprocessing"
      ]
    },
    {
      "cell_type": "code",
      "metadata": {
        "colab": {
          "base_uri": "https://localhost:8080/",
          "height": 820
        },
        "id": "IIwun-xxBLiQ",
        "outputId": "4515920b-f8f6-4f4b-cade-594bacbdf832"
      },
      "source": [
        "# details about the data\n",
        "print(data)\n",
        "data.info()\n",
        "data.describe()"
      ],
      "execution_count": 41,
      "outputs": [
        {
          "output_type": "stream",
          "name": "stdout",
          "text": [
            "     Pregnancies  Glucose  ...  Age  Outcome\n",
            "0              6      148  ...   50        1\n",
            "1              1       85  ...   31        0\n",
            "2              8      183  ...   32        1\n",
            "3              1       89  ...   21        0\n",
            "4              0      137  ...   33        1\n",
            "..           ...      ...  ...  ...      ...\n",
            "763           10      101  ...   63        0\n",
            "764            2      122  ...   27        0\n",
            "765            5      121  ...   30        0\n",
            "766            1      126  ...   47        1\n",
            "767            1       93  ...   23        0\n",
            "\n",
            "[768 rows x 9 columns]\n",
            "<class 'pandas.core.frame.DataFrame'>\n",
            "RangeIndex: 768 entries, 0 to 767\n",
            "Data columns (total 9 columns):\n",
            " #   Column                    Non-Null Count  Dtype  \n",
            "---  ------                    --------------  -----  \n",
            " 0   Pregnancies               768 non-null    int64  \n",
            " 1   Glucose                   768 non-null    int64  \n",
            " 2   BloodPressure             768 non-null    int64  \n",
            " 3   SkinThickness             768 non-null    int64  \n",
            " 4   Insulin                   768 non-null    int64  \n",
            " 5   BMI                       768 non-null    float64\n",
            " 6   DiabetesPedigreeFunction  768 non-null    float64\n",
            " 7   Age                       768 non-null    int64  \n",
            " 8   Outcome                   768 non-null    int64  \n",
            "dtypes: float64(2), int64(7)\n",
            "memory usage: 54.1 KB\n"
          ]
        },
        {
          "output_type": "execute_result",
          "data": {
            "text/html": [
              "<div>\n",
              "<style scoped>\n",
              "    .dataframe tbody tr th:only-of-type {\n",
              "        vertical-align: middle;\n",
              "    }\n",
              "\n",
              "    .dataframe tbody tr th {\n",
              "        vertical-align: top;\n",
              "    }\n",
              "\n",
              "    .dataframe thead th {\n",
              "        text-align: right;\n",
              "    }\n",
              "</style>\n",
              "<table border=\"1\" class=\"dataframe\">\n",
              "  <thead>\n",
              "    <tr style=\"text-align: right;\">\n",
              "      <th></th>\n",
              "      <th>Pregnancies</th>\n",
              "      <th>Glucose</th>\n",
              "      <th>BloodPressure</th>\n",
              "      <th>SkinThickness</th>\n",
              "      <th>Insulin</th>\n",
              "      <th>BMI</th>\n",
              "      <th>DiabetesPedigreeFunction</th>\n",
              "      <th>Age</th>\n",
              "      <th>Outcome</th>\n",
              "    </tr>\n",
              "  </thead>\n",
              "  <tbody>\n",
              "    <tr>\n",
              "      <th>count</th>\n",
              "      <td>768.000000</td>\n",
              "      <td>768.000000</td>\n",
              "      <td>768.000000</td>\n",
              "      <td>768.000000</td>\n",
              "      <td>768.000000</td>\n",
              "      <td>768.000000</td>\n",
              "      <td>768.000000</td>\n",
              "      <td>768.000000</td>\n",
              "      <td>768.000000</td>\n",
              "    </tr>\n",
              "    <tr>\n",
              "      <th>mean</th>\n",
              "      <td>3.845052</td>\n",
              "      <td>120.894531</td>\n",
              "      <td>69.105469</td>\n",
              "      <td>20.536458</td>\n",
              "      <td>79.799479</td>\n",
              "      <td>31.992578</td>\n",
              "      <td>0.471876</td>\n",
              "      <td>33.240885</td>\n",
              "      <td>0.348958</td>\n",
              "    </tr>\n",
              "    <tr>\n",
              "      <th>std</th>\n",
              "      <td>3.369578</td>\n",
              "      <td>31.972618</td>\n",
              "      <td>19.355807</td>\n",
              "      <td>15.952218</td>\n",
              "      <td>115.244002</td>\n",
              "      <td>7.884160</td>\n",
              "      <td>0.331329</td>\n",
              "      <td>11.760232</td>\n",
              "      <td>0.476951</td>\n",
              "    </tr>\n",
              "    <tr>\n",
              "      <th>min</th>\n",
              "      <td>0.000000</td>\n",
              "      <td>0.000000</td>\n",
              "      <td>0.000000</td>\n",
              "      <td>0.000000</td>\n",
              "      <td>0.000000</td>\n",
              "      <td>0.000000</td>\n",
              "      <td>0.078000</td>\n",
              "      <td>21.000000</td>\n",
              "      <td>0.000000</td>\n",
              "    </tr>\n",
              "    <tr>\n",
              "      <th>25%</th>\n",
              "      <td>1.000000</td>\n",
              "      <td>99.000000</td>\n",
              "      <td>62.000000</td>\n",
              "      <td>0.000000</td>\n",
              "      <td>0.000000</td>\n",
              "      <td>27.300000</td>\n",
              "      <td>0.243750</td>\n",
              "      <td>24.000000</td>\n",
              "      <td>0.000000</td>\n",
              "    </tr>\n",
              "    <tr>\n",
              "      <th>50%</th>\n",
              "      <td>3.000000</td>\n",
              "      <td>117.000000</td>\n",
              "      <td>72.000000</td>\n",
              "      <td>23.000000</td>\n",
              "      <td>30.500000</td>\n",
              "      <td>32.000000</td>\n",
              "      <td>0.372500</td>\n",
              "      <td>29.000000</td>\n",
              "      <td>0.000000</td>\n",
              "    </tr>\n",
              "    <tr>\n",
              "      <th>75%</th>\n",
              "      <td>6.000000</td>\n",
              "      <td>140.250000</td>\n",
              "      <td>80.000000</td>\n",
              "      <td>32.000000</td>\n",
              "      <td>127.250000</td>\n",
              "      <td>36.600000</td>\n",
              "      <td>0.626250</td>\n",
              "      <td>41.000000</td>\n",
              "      <td>1.000000</td>\n",
              "    </tr>\n",
              "    <tr>\n",
              "      <th>max</th>\n",
              "      <td>17.000000</td>\n",
              "      <td>199.000000</td>\n",
              "      <td>122.000000</td>\n",
              "      <td>99.000000</td>\n",
              "      <td>846.000000</td>\n",
              "      <td>67.100000</td>\n",
              "      <td>2.420000</td>\n",
              "      <td>81.000000</td>\n",
              "      <td>1.000000</td>\n",
              "    </tr>\n",
              "  </tbody>\n",
              "</table>\n",
              "</div>"
            ],
            "text/plain": [
              "       Pregnancies     Glucose  ...         Age     Outcome\n",
              "count   768.000000  768.000000  ...  768.000000  768.000000\n",
              "mean      3.845052  120.894531  ...   33.240885    0.348958\n",
              "std       3.369578   31.972618  ...   11.760232    0.476951\n",
              "min       0.000000    0.000000  ...   21.000000    0.000000\n",
              "25%       1.000000   99.000000  ...   24.000000    0.000000\n",
              "50%       3.000000  117.000000  ...   29.000000    0.000000\n",
              "75%       6.000000  140.250000  ...   41.000000    1.000000\n",
              "max      17.000000  199.000000  ...   81.000000    1.000000\n",
              "\n",
              "[8 rows x 9 columns]"
            ]
          },
          "metadata": {},
          "execution_count": 41
        }
      ]
    },
    {
      "cell_type": "markdown",
      "metadata": {
        "id": "dHUJi_zOw812"
      },
      "source": [
        "Zero values in data"
      ]
    },
    {
      "cell_type": "code",
      "metadata": {
        "colab": {
          "base_uri": "https://localhost:8080/"
        },
        "id": "Rp8UU_7zxfag",
        "outputId": "b3f4d2ca-d31d-4ccd-d66d-3f23eed813ed"
      },
      "source": [
        "print(data['Glucose'].value_counts()[0], data['BloodPressure'].value_counts()[0], data['SkinThickness'].value_counts()[0], data['BMI'].value_counts()[0], data['Insulin'].value_counts()[0])"
      ],
      "execution_count": 42,
      "outputs": [
        {
          "output_type": "stream",
          "name": "stdout",
          "text": [
            "5 35 227 11 374\n"
          ]
        }
      ]
    },
    {
      "cell_type": "code",
      "metadata": {
        "id": "TROJ0yxHADDT",
        "colab": {
          "base_uri": "https://localhost:8080/",
          "height": 300
        },
        "outputId": "477e48c6-d2bc-449b-940a-72c90f187203"
      },
      "source": [
        "# dropping zero value samples and replacing with median where there are many zero values\n",
        "\n",
        "data = data[(data['BloodPressure']!=0) & (data['BMI']!=0) & (data['Glucose']!=0)]\n",
        "\n",
        "data['Insulin'].replace(0, data['Insulin'].median(axis=0), inplace=True)\n",
        "data['SkinThickness'].replace(0, data['SkinThickness'].median(axis=0), inplace=True)\n",
        "# data['BMI'].replace(0, data['BMI'].median(axis=0), inplace=True)\n",
        "# data['Glucose'].replace(0, data['Glucose'].median(axis=0), inplace=True)\n",
        "# data['BloodPressure'].replace(0, data['BloodPressure'].median(axis=0), inplace=True)\n",
        "\n",
        "data.describe()"
      ],
      "execution_count": 43,
      "outputs": [
        {
          "output_type": "execute_result",
          "data": {
            "text/html": [
              "<div>\n",
              "<style scoped>\n",
              "    .dataframe tbody tr th:only-of-type {\n",
              "        vertical-align: middle;\n",
              "    }\n",
              "\n",
              "    .dataframe tbody tr th {\n",
              "        vertical-align: top;\n",
              "    }\n",
              "\n",
              "    .dataframe thead th {\n",
              "        text-align: right;\n",
              "    }\n",
              "</style>\n",
              "<table border=\"1\" class=\"dataframe\">\n",
              "  <thead>\n",
              "    <tr style=\"text-align: right;\">\n",
              "      <th></th>\n",
              "      <th>Pregnancies</th>\n",
              "      <th>Glucose</th>\n",
              "      <th>BloodPressure</th>\n",
              "      <th>SkinThickness</th>\n",
              "      <th>Insulin</th>\n",
              "      <th>BMI</th>\n",
              "      <th>DiabetesPedigreeFunction</th>\n",
              "      <th>Age</th>\n",
              "      <th>Outcome</th>\n",
              "    </tr>\n",
              "  </thead>\n",
              "  <tbody>\n",
              "    <tr>\n",
              "      <th>count</th>\n",
              "      <td>724.000000</td>\n",
              "      <td>724.000000</td>\n",
              "      <td>724.000000</td>\n",
              "      <td>724.000000</td>\n",
              "      <td>724.000000</td>\n",
              "      <td>724.000000</td>\n",
              "      <td>724.000000</td>\n",
              "      <td>724.000000</td>\n",
              "      <td>724.000000</td>\n",
              "    </tr>\n",
              "    <tr>\n",
              "      <th>mean</th>\n",
              "      <td>3.866022</td>\n",
              "      <td>121.882597</td>\n",
              "      <td>72.400552</td>\n",
              "      <td>27.808011</td>\n",
              "      <td>106.505525</td>\n",
              "      <td>32.467127</td>\n",
              "      <td>0.474765</td>\n",
              "      <td>33.350829</td>\n",
              "      <td>0.343923</td>\n",
              "    </tr>\n",
              "    <tr>\n",
              "      <th>std</th>\n",
              "      <td>3.362803</td>\n",
              "      <td>30.750030</td>\n",
              "      <td>12.379870</td>\n",
              "      <td>9.304910</td>\n",
              "      <td>102.669035</td>\n",
              "      <td>6.888941</td>\n",
              "      <td>0.332315</td>\n",
              "      <td>11.765393</td>\n",
              "      <td>0.475344</td>\n",
              "    </tr>\n",
              "    <tr>\n",
              "      <th>min</th>\n",
              "      <td>0.000000</td>\n",
              "      <td>44.000000</td>\n",
              "      <td>24.000000</td>\n",
              "      <td>7.000000</td>\n",
              "      <td>14.000000</td>\n",
              "      <td>18.200000</td>\n",
              "      <td>0.078000</td>\n",
              "      <td>21.000000</td>\n",
              "      <td>0.000000</td>\n",
              "    </tr>\n",
              "    <tr>\n",
              "      <th>25%</th>\n",
              "      <td>1.000000</td>\n",
              "      <td>99.750000</td>\n",
              "      <td>64.000000</td>\n",
              "      <td>24.000000</td>\n",
              "      <td>48.000000</td>\n",
              "      <td>27.500000</td>\n",
              "      <td>0.245000</td>\n",
              "      <td>24.000000</td>\n",
              "      <td>0.000000</td>\n",
              "    </tr>\n",
              "    <tr>\n",
              "      <th>50%</th>\n",
              "      <td>3.000000</td>\n",
              "      <td>117.000000</td>\n",
              "      <td>72.000000</td>\n",
              "      <td>24.000000</td>\n",
              "      <td>48.000000</td>\n",
              "      <td>32.400000</td>\n",
              "      <td>0.379000</td>\n",
              "      <td>29.000000</td>\n",
              "      <td>0.000000</td>\n",
              "    </tr>\n",
              "    <tr>\n",
              "      <th>75%</th>\n",
              "      <td>6.000000</td>\n",
              "      <td>142.000000</td>\n",
              "      <td>80.000000</td>\n",
              "      <td>33.000000</td>\n",
              "      <td>130.500000</td>\n",
              "      <td>36.600000</td>\n",
              "      <td>0.627500</td>\n",
              "      <td>41.000000</td>\n",
              "      <td>1.000000</td>\n",
              "    </tr>\n",
              "    <tr>\n",
              "      <th>max</th>\n",
              "      <td>17.000000</td>\n",
              "      <td>199.000000</td>\n",
              "      <td>122.000000</td>\n",
              "      <td>99.000000</td>\n",
              "      <td>846.000000</td>\n",
              "      <td>67.100000</td>\n",
              "      <td>2.420000</td>\n",
              "      <td>81.000000</td>\n",
              "      <td>1.000000</td>\n",
              "    </tr>\n",
              "  </tbody>\n",
              "</table>\n",
              "</div>"
            ],
            "text/plain": [
              "       Pregnancies     Glucose  ...         Age     Outcome\n",
              "count   724.000000  724.000000  ...  724.000000  724.000000\n",
              "mean      3.866022  121.882597  ...   33.350829    0.343923\n",
              "std       3.362803   30.750030  ...   11.765393    0.475344\n",
              "min       0.000000   44.000000  ...   21.000000    0.000000\n",
              "25%       1.000000   99.750000  ...   24.000000    0.000000\n",
              "50%       3.000000  117.000000  ...   29.000000    0.000000\n",
              "75%       6.000000  142.000000  ...   41.000000    1.000000\n",
              "max      17.000000  199.000000  ...   81.000000    1.000000\n",
              "\n",
              "[8 rows x 9 columns]"
            ]
          },
          "metadata": {},
          "execution_count": 43
        }
      ]
    },
    {
      "cell_type": "code",
      "metadata": {
        "colab": {
          "base_uri": "https://localhost:8080/",
          "height": 403
        },
        "id": "D1VznsvNB2yd",
        "outputId": "f34954b5-0b53-4f3d-8cd5-668dec0c82d1"
      },
      "source": [
        "corr = data.corr()\n",
        "f, ax = plt.subplots()\n",
        "mask = np.triu(np.ones_like(corr, dtype=bool))\n",
        "cmap = sns.diverging_palette(230, 20, as_cmap=True)\n",
        "sns.heatmap(corr, annot=True, mask = mask, cmap=cmap)\n",
        "\n",
        "# there is no high correlation between any features and hence no need to drop any features"
      ],
      "execution_count": 44,
      "outputs": [
        {
          "output_type": "execute_result",
          "data": {
            "text/plain": [
              "<matplotlib.axes._subplots.AxesSubplot at 0x7fa04eb39d50>"
            ]
          },
          "metadata": {},
          "execution_count": 44
        },
        {
          "output_type": "display_data",
          "data": {
            "image/png": "[encoded data removed]",
            "text/plain": [
              "<Figure size 432x288 with 2 Axes>"
            ]
          },
          "metadata": {
            "needs_background": "light"
          }
        }
      ]
    },
    {
      "cell_type": "code",
      "metadata": {
        "colab": {
          "base_uri": "https://localhost:8080/",
          "height": 617
        },
        "id": "aOgk10nm0aQO",
        "outputId": "c227885a-4c58-487e-d294-b266063e6620"
      },
      "source": [
        "data.hist(figsize=(7, 7))"
      ],
      "execution_count": 45,
      "outputs": [
        {
          "output_type": "execute_result",
          "data": {
            "text/plain": [
              "array([[<matplotlib.axes._subplots.AxesSubplot object at 0x7fa04eed7d10>,\n",
              "        <matplotlib.axes._subplots.AxesSubplot object at 0x7fa055e39e10>,\n",
              "        <matplotlib.axes._subplots.AxesSubplot object at 0x7fa04f01afd0>],\n",
              "       [<matplotlib.axes._subplots.AxesSubplot object at 0x7fa05569a6d0>,\n",
              "        <matplotlib.axes._subplots.AxesSubplot object at 0x7fa0556d5d50>,\n",
              "        <matplotlib.axes._subplots.AxesSubplot object at 0x7fa055125410>],\n",
              "       [<matplotlib.axes._subplots.AxesSubplot object at 0x7fa05454bb10>,\n",
              "        <matplotlib.axes._subplots.AxesSubplot object at 0x7fa052e8c110>,\n",
              "        <matplotlib.axes._subplots.AxesSubplot object at 0x7fa052e8c150>]],\n",
              "      dtype=object)"
            ]
          },
          "metadata": {},
          "execution_count": 45
        },
        {
          "output_type": "display_data",
          "data": {
            "image/png": "[encoded data removed]",
            "text/plain": [
              "<Figure size 504x504 with 9 Axes>"
            ]
          },
          "metadata": {
            "needs_background": "light"
          }
        }
      ]
    },
    {
      "cell_type": "markdown",
      "metadata": {
        "id": "uhroVYGcCU6F"
      },
      "source": [
        "# Dataset Split"
      ]
    },
    {
      "cell_type": "code",
      "metadata": {
        "id": "KVACmpQICAkl"
      },
      "source": [
        "# splitting data into test and train datasets\n",
        "def split_train_test(input, output, train_ratio=0.8):\n",
        "    X_train = []\n",
        "    Y_train = []\n",
        "    X_test = input.tolist()\n",
        "    Y_test = output.tolist()\n",
        "    train_size = math.floor(train_ratio * len(input))\n",
        "    \n",
        "    while len(X_train) < train_size:\n",
        "        index = random.randint(0, len(X_test)-1)\n",
        "        X_train.append(X_test.pop(index))\n",
        "        Y_train.append(Y_test.pop(index))\n",
        "    \n",
        "    return X_train, X_test, Y_train, Y_test\n",
        "\n",
        "# standardisation of the input features\n",
        "# def standardise(data):\n",
        "#     for i in range(data.shape[1]):\n",
        "#         data[:][i] = ((data[:][i] - np.mean(data[:][i]))/np.std(data[:][i]))\n",
        "#     return data\n",
        "\n",
        "# normalisation of the input features\n",
        "def normalise(data):\n",
        "    for i in range(data.shape[1]):\n",
        "        if i != 0:\n",
        "            data[:][i] = (data[:][i] - np.min(data[:][i]))/(np.max(data[:][i]) - np.min(data[:][i]))\n",
        "    return data\n",
        "\n",
        "# separating input and output features\n",
        "output = data['Outcome']\n",
        "input = data.drop('Outcome',axis='columns')\n",
        "\n",
        "# including bias term in input\n",
        "newcol = np.ones(np.shape(input)[0])\n",
        "input.insert(0, \"x0\", newcol, True)\n",
        "\n",
        "input = input.to_numpy()\n",
        "output = output.to_numpy()\n",
        "\n",
        "# splitting data into train and test datasets\n",
        "random.seed(0)\n",
        "X_train, X_test, Y_train, Y_test = split_train_test(input, output, 0.9)\n",
        "X_train, X_val, Y_train, Y_val = split_train_test(input, output, 0.77)\n",
        "\n",
        "X_train = np.array(X_train)\n",
        "Y_train = np.array(Y_train)\n",
        "X_test = np.array(X_test)\n",
        "Y_test = np.array(Y_test)\n",
        "X_val = np.array(X_val)\n",
        "Y_val = np.array(Y_val)\n",
        "\n",
        "Y_train = np.reshape(Y_train, (Y_train.shape[0], 1))\n",
        "Y_test = np.reshape(Y_test, (Y_test.shape[0], 1))\n",
        "Y_val = np.reshape(Y_val, (Y_val.shape[0], 1))\n",
        "\t\n",
        "# X_train = standardise(X_train)\n",
        "# Y_train = standardise(Y_train)\n",
        "# X_val = standardise(X_val)\n",
        "# Y_val = standardise(Y_val)\n",
        "\n",
        "X_train = normalise(X_train)\n",
        "Y_train = normalise(Y_train)\n",
        "X_val = normalise(X_val)\n",
        "Y_val = normalise(Y_val)\n"
      ],
      "execution_count": 46,
      "outputs": []
    },
    {
      "cell_type": "markdown",
      "metadata": {
        "id": "HIV4BgUEGbYX"
      },
      "source": [
        "# **Batch Gradient Descent**\n",
        "\n",
        "\n",
        "\n"
      ]
    },
    {
      "cell_type": "code",
      "metadata": {
        "id": "Q6ZU5laUGcsR"
      },
      "source": [
        "# to print the confusion matrix and metrics \n",
        "def display_matrix(true_pos, true_neg, false_pos, false_neg):\n",
        "    matrix = [['  ', 'PP', 'PN'], ['AP', true_pos, false_neg], ['AN', false_pos, true_neg]]\n",
        "    for i in matrix:\n",
        "        for j in i:\n",
        "            print(j, end = '   ')\n",
        "        print()\n",
        "    print('PP: Predicted Positive, PN: Predicted Negative, AP: Actual Positive, AP: Actual Negative')\n",
        "    accuracy = (1/(true_pos + true_neg + false_pos + false_neg))*(true_pos + true_neg)*100\n",
        "    print('\\nAccuracy:')\n",
        "    print(accuracy)\n",
        "    precision = (1/(true_pos + false_pos))*true_pos\n",
        "    print('\\nPrecision:')\n",
        "    print(precision)\n",
        "    recall = (1/(true_pos + false_neg))*true_pos\n",
        "    print('\\nRecall:')\n",
        "    print(recall)\n",
        "    f1score = (2/(precision + recall))*(precision*recall)\n",
        "    print('\\nF1 score:')\n",
        "    print(f1score)\n",
        "\n",
        "# calculating the tp, tf, tn, fn for confusion matrix\n",
        "def confusion_matrix(y_pred, output):\n",
        "    true_pos = 0\n",
        "    true_neg = 0\n",
        "    false_pos = 0\n",
        "    false_neg = 0\n",
        "    ctr = 0\n",
        "    for i in y_pred:\n",
        "        if i == 1 and output[ctr] == 1:\n",
        "            true_pos += 1\n",
        "        elif i == 0 and output[ctr] == 0:\n",
        "            true_neg += 1\n",
        "        elif i == 1 and output[ctr] == 0:\n",
        "            false_pos += 1\n",
        "        elif i == 0 and output[ctr] == 1:\n",
        "            false_neg += 1\n",
        "        ctr += 1\n",
        "\n",
        "    display_matrix(true_pos, true_neg, false_pos, false_neg)\n",
        "\n",
        "# calculation of hypothesis \n",
        "def hypothesis(theta, x):\n",
        "    z = np.dot(x, theta)\n",
        "    return 1.0 / (1.0 + np.exp(-z))\n",
        "\n",
        "# batch gradient descent for logistic regression\n",
        "def batch_gradient_descent(input, output, learning_rate, itr):\n",
        "\n",
        "    h_theta_vec = []\n",
        "    theta_vec = []\n",
        "    cost_vec = []\n",
        "    \n",
        "    num_train_samples = np.shape(input)[0]\n",
        "    num_features = np.shape(input)[1]\n",
        "\n",
        "    # initialise model parameters and cost to one\n",
        "    theta_curr = np.ones((num_features, 1))\n",
        "    cost = 0\n",
        "\n",
        "    y = output\n",
        "    y = np.reshape(y, (y.shape[0], 1))\n",
        "    x = input\n",
        "    \n",
        "    for i in range(itr):\n",
        "\n",
        "        # predicted values\n",
        "        h_theta = hypothesis(theta_curr, x)\n",
        "\n",
        "        # loss \n",
        "        loss = h_theta - y\n",
        "\n",
        "        # cost\n",
        "        cost = (-1/num_train_samples) * np.sum(y * np.log(h_theta + 1e-15) + (1 - y) * np.log(1 - h_theta + 1e-15))\n",
        "        \n",
        "        # gradients\n",
        "        d_cost = (2/num_train_samples) * np.dot(x.T, loss)\n",
        "        \n",
        "        # step size\n",
        "        step = learning_rate*d_cost\n",
        "\n",
        "        # update the parameters\n",
        "        theta_curr = theta_curr - step\n",
        "        \n",
        "        h = np.sum(h_theta, axis = 0)\n",
        "        h_theta_vec.append(h)\n",
        "        theta_vec.append(theta_curr)\n",
        "        cost_vec.append(cost)\n",
        "\n",
        "    return cost_vec, theta_vec, h_theta_vec, theta_curr\n",
        "\n",
        "def predict_val(input, theta):\n",
        "    y = np.dot(input, theta)\n",
        "    y_pred = []\n",
        "    for i in y:\n",
        "        if i > 0.5:\n",
        "            y_pred.append(1)\n",
        "        else:\n",
        "            y_pred.append(0)\n",
        "    return y_pred\n"
      ],
      "execution_count": 47,
      "outputs": []
    },
    {
      "cell_type": "code",
      "metadata": {
        "colab": {
          "base_uri": "https://localhost:8080/",
          "height": 699
        },
        "id": "x1AwcUxn6vy_",
        "outputId": "abd6ac03-c7b3-4f7d-8160-bc2c8515836c"
      },
      "source": [
        "itr = 5000\n",
        "learning_rate = 0.0001\n",
        "cost_vec, theta_vec, h_theta_vec, theta = batch_gradient_descent(X_train, Y_train, learning_rate, itr)\n",
        "y_pred = predict_val(X_train, theta)\n",
        "print()\n",
        "confusion_matrix(y_pred, Y_train)\n",
        "\n",
        "plt.figure(figsize=(10,6))\n",
        "plt.plot(cost_vec,label='cost')\n",
        "plt.title('Change in cost wrt iterations')\n",
        "plt.xlabel('Iterations')\n",
        "plt.ylabel('Cost')\n",
        "plt.legend()\n",
        "plt.show()"
      ],
      "execution_count": 104,
      "outputs": [
        {
          "output_type": "stream",
          "name": "stdout",
          "text": [
            "\n",
            "     PP   PN   \n",
            "AP   79   108   \n",
            "AN   54   316   \n",
            "PP: Predicted Positive, PN: Predicted Negative, AP: Actual Positive, AP: Actual Negative\n",
            "\n",
            "Accuracy:\n",
            "70.91561938958708\n",
            "\n",
            "Precision:\n",
            "0.593984962406015\n",
            "\n",
            "Recall:\n",
            "0.4224598930481283\n",
            "\n",
            "F1 score:\n",
            "0.49375\n"
          ]
        },
        {
          "output_type": "display_data",
          "data": {
            "image/png": "[encoded data removed]",
            "text/plain": [
              "<Figure size 720x432 with 1 Axes>"
            ]
          },
          "metadata": {
            "needs_background": "light"
          }
        }
      ]
    },
    {
      "cell_type": "code",
      "metadata": {
        "colab": {
          "base_uri": "https://localhost:8080/",
          "height": 681
        },
        "id": "k95vmKlf6-79",
        "outputId": "fd0905ff-4bc0-4912-d7ba-1afbd3bcce0a"
      },
      "source": [
        "cost_vec, theta_vec, h_theta_vec, theta = batch_gradient_descent(X_val, Y_val, learning_rate, itr)\n",
        "y_pred = predict_val(X_val, theta)\n",
        "confusion_matrix(y_pred, Y_val)\n",
        "\n",
        "plt.figure(figsize=(10,6))\n",
        "plt.plot(cost_vec,label='cost')\n",
        "plt.title('Change in cost wrt iterations')\n",
        "plt.xlabel('Iterations')\n",
        "plt.ylabel('Cost')\n",
        "plt.legend()\n",
        "plt.show()"
      ],
      "execution_count": 105,
      "outputs": [
        {
          "output_type": "stream",
          "name": "stdout",
          "text": [
            "     PP   PN   \n",
            "AP   25   37   \n",
            "AN   18   87   \n",
            "PP: Predicted Positive, PN: Predicted Negative, AP: Actual Positive, AP: Actual Negative\n",
            "\n",
            "Accuracy:\n",
            "67.06586826347306\n",
            "\n",
            "Precision:\n",
            "0.5813953488372093\n",
            "\n",
            "Recall:\n",
            "0.4032258064516129\n",
            "\n",
            "F1 score:\n",
            "0.4761904761904762\n"
          ]
        },
        {
          "output_type": "display_data",
          "data": {
            "image/png": "[encoded data removed]",
            "text/plain": [
              "<Figure size 720x432 with 1 Axes>"
            ]
          },
          "metadata": {
            "needs_background": "light"
          }
        }
      ]
    },
    {
      "cell_type": "code",
      "metadata": {
        "colab": {
          "base_uri": "https://localhost:8080/"
        },
        "id": "gVh6bTvFnC6Z",
        "outputId": "a09ec160-9e3f-427f-8fab-9d885cb06d01"
      },
      "source": [
        "y_pred = predict_val(X_test, theta)\n",
        "confusion_matrix(y_pred, Y_test)"
      ],
      "execution_count": 106,
      "outputs": [
        {
          "output_type": "stream",
          "name": "stdout",
          "text": [
            "     PP   PN   \n",
            "AP   10   18   \n",
            "AN   7   38   \n",
            "PP: Predicted Positive, PN: Predicted Negative, AP: Actual Positive, AP: Actual Negative\n",
            "\n",
            "Accuracy:\n",
            "65.75342465753424\n",
            "\n",
            "Precision:\n",
            "0.5882352941176471\n",
            "\n",
            "Recall:\n",
            "0.3571428571428571\n",
            "\n",
            "F1 score:\n",
            "0.44444444444444436\n"
          ]
        }
      ]
    },
    {
      "cell_type": "markdown",
      "metadata": {
        "id": "r4elJ65hi2F9"
      },
      "source": [
        "# Using sklearn"
      ]
    },
    {
      "cell_type": "code",
      "metadata": {
        "colab": {
          "base_uri": "https://localhost:8080/"
        },
        "id": "88DhjcYpi6JZ",
        "outputId": "be9446dd-e26e-4332-f8ce-4069c5cb1794"
      },
      "source": [
        "print('Using sklearn LogisticRegression:\\n')\n",
        "log_reg = linear_model.LogisticRegression(max_iter = 1000)\n",
        "log_reg.fit(X_train, Y_train.reshape(X_train.shape[0], ))\n",
        "accuracy = log_reg.score(X_test, Y_test)\n",
        "print(accuracy*100)\n",
        "\n",
        "y_pred = log_reg.predict(X_test)\n",
        "confusion_matrix(y_pred, Y_test)\n",
        "print()\n",
        "\n",
        "print('\\nUsing sklearn SGDClassifier:\\n')\n",
        "sgd_log_reg = linear_model.SGDClassifier(max_iter=1000, learning_rate = 'optimal', verbose = 1)\n",
        "sgd_log_reg.fit(X_train, Y_train.reshape(X_train.shape[0], ))\n",
        "accuracy = log_reg.score(X_test, Y_test)\n",
        "print(accuracy*100)\n",
        "y_pred = log_reg.predict(X_test)\n",
        "confusion_matrix(y_pred, Y_test)"
      ],
      "execution_count": 94,
      "outputs": [
        {
          "output_type": "stream",
          "name": "stdout",
          "text": [
            "Using sklearn LogisticRegression:\n",
            "\n",
            "73.97260273972603\n",
            "     PP   PN   \n",
            "AP   12   16   \n",
            "AN   3   42   \n",
            "PP: Predicted Positive, PN: Predicted Negative, AP: Actual Positive, AP: Actual Negative\n",
            "\n",
            "Accuracy:\n",
            "73.97260273972603\n",
            "\n",
            "Precision:\n",
            "0.8\n",
            "\n",
            "Recall:\n",
            "0.42857142857142855\n",
            "\n",
            "F1 score:\n",
            "0.5581395348837209\n",
            "\n",
            "\n",
            "Using sklearn SGDClassifier:\n",
            "\n",
            "-- Epoch 1\n",
            "Norm: 6006.52, NNZs: 9, Bias: -153.763025, T: 557, Avg. loss: 77571.286129\n",
            "Total training time: 0.00 seconds.\n",
            "-- Epoch 2\n",
            "Norm: 4734.49, NNZs: 9, Bias: -236.465415, T: 1114, Avg. loss: 61424.105854\n",
            "Total training time: 0.00 seconds.\n",
            "-- Epoch 3\n",
            "Norm: 4369.67, NNZs: 9, Bias: -291.357013, T: 1671, Avg. loss: 46158.670294\n",
            "Total training time: 0.00 seconds.\n",
            "-- Epoch 4\n",
            "Norm: 3566.55, NNZs: 9, Bias: -329.082313, T: 2228, Avg. loss: 35488.446643\n",
            "Total training time: 0.00 seconds.\n",
            "-- Epoch 5\n",
            "Norm: 3498.59, NNZs: 9, Bias: -374.789782, T: 2785, Avg. loss: 29396.716544\n",
            "Total training time: 0.01 seconds.\n",
            "-- Epoch 6\n",
            "Norm: 3149.21, NNZs: 9, Bias: -401.679686, T: 3342, Avg. loss: 26294.993074\n",
            "Total training time: 0.01 seconds.\n",
            "-- Epoch 7\n",
            "Norm: 2682.55, NNZs: 9, Bias: -427.591927, T: 3899, Avg. loss: 22551.942857\n",
            "Total training time: 0.01 seconds.\n",
            "-- Epoch 8\n",
            "Norm: 2701.92, NNZs: 9, Bias: -456.608998, T: 4456, Avg. loss: 21469.719487\n",
            "Total training time: 0.01 seconds.\n",
            "-- Epoch 9\n",
            "Norm: 2484.68, NNZs: 9, Bias: -475.774793, T: 5013, Avg. loss: 19551.222754\n",
            "Total training time: 0.01 seconds.\n",
            "-- Epoch 10\n",
            "Norm: 2181.69, NNZs: 9, Bias: -491.864808, T: 5570, Avg. loss: 15968.059318\n",
            "Total training time: 0.01 seconds.\n",
            "-- Epoch 11\n",
            "Norm: 2114.70, NNZs: 9, Bias: -513.881736, T: 6127, Avg. loss: 16057.837465\n",
            "Total training time: 0.01 seconds.\n",
            "-- Epoch 12\n",
            "Norm: 2148.84, NNZs: 9, Bias: -534.060543, T: 6684, Avg. loss: 13559.794649\n",
            "Total training time: 0.01 seconds.\n",
            "-- Epoch 13\n",
            "Norm: 2024.26, NNZs: 9, Bias: -551.635041, T: 7241, Avg. loss: 15081.937304\n",
            "Total training time: 0.01 seconds.\n",
            "-- Epoch 14\n",
            "Norm: 1778.46, NNZs: 9, Bias: -563.245259, T: 7798, Avg. loss: 10168.792924\n",
            "Total training time: 0.01 seconds.\n",
            "-- Epoch 15\n",
            "Norm: 1689.27, NNZs: 9, Bias: -573.152626, T: 8355, Avg. loss: 10058.814571\n",
            "Total training time: 0.02 seconds.\n",
            "-- Epoch 16\n",
            "Norm: 1658.35, NNZs: 9, Bias: -583.682379, T: 8912, Avg. loss: 10230.870481\n",
            "Total training time: 0.02 seconds.\n",
            "-- Epoch 17\n",
            "Norm: 1698.79, NNZs: 9, Bias: -600.378530, T: 9469, Avg. loss: 10129.307032\n",
            "Total training time: 0.03 seconds.\n",
            "-- Epoch 18\n",
            "Norm: 1617.36, NNZs: 9, Bias: -610.602221, T: 10026, Avg. loss: 9615.909219\n",
            "Total training time: 0.03 seconds.\n",
            "-- Epoch 19\n",
            "Norm: 1556.66, NNZs: 9, Bias: -617.668612, T: 10583, Avg. loss: 9291.123911\n",
            "Total training time: 0.04 seconds.\n",
            "-- Epoch 20\n",
            "Norm: 1462.26, NNZs: 9, Bias: -625.239619, T: 11140, Avg. loss: 7158.903822\n",
            "Total training time: 0.04 seconds.\n",
            "-- Epoch 21\n",
            "Norm: 1435.92, NNZs: 9, Bias: -634.932244, T: 11697, Avg. loss: 8363.726587\n",
            "Total training time: 0.04 seconds.\n",
            "-- Epoch 22\n",
            "Norm: 1415.49, NNZs: 9, Bias: -644.182711, T: 12254, Avg. loss: 8193.056471\n",
            "Total training time: 0.04 seconds.\n",
            "-- Epoch 23\n",
            "Norm: 1356.47, NNZs: 9, Bias: -652.273285, T: 12811, Avg. loss: 7163.387581\n",
            "Total training time: 0.04 seconds.\n",
            "-- Epoch 24\n",
            "Norm: 1396.80, NNZs: 9, Bias: -660.758823, T: 13368, Avg. loss: 7966.964149\n",
            "Total training time: 0.04 seconds.\n",
            "-- Epoch 25\n",
            "Norm: 1267.57, NNZs: 9, Bias: -668.257831, T: 13925, Avg. loss: 7080.219390\n",
            "Total training time: 0.04 seconds.\n",
            "-- Epoch 26\n",
            "Norm: 1233.61, NNZs: 9, Bias: -676.096026, T: 14482, Avg. loss: 6387.949238\n",
            "Total training time: 0.04 seconds.\n",
            "-- Epoch 27\n",
            "Norm: 1160.51, NNZs: 9, Bias: -682.422574, T: 15039, Avg. loss: 6566.594688\n",
            "Total training time: 0.04 seconds.\n",
            "-- Epoch 28\n",
            "Norm: 1111.33, NNZs: 9, Bias: -689.146583, T: 15596, Avg. loss: 4841.893529\n",
            "Total training time: 0.04 seconds.\n",
            "-- Epoch 29\n",
            "Norm: 1114.84, NNZs: 9, Bias: -696.253042, T: 16153, Avg. loss: 6116.388455\n",
            "Total training time: 0.05 seconds.\n",
            "-- Epoch 30\n",
            "Norm: 1095.91, NNZs: 9, Bias: -702.593226, T: 16710, Avg. loss: 5787.039624\n",
            "Total training time: 0.05 seconds.\n",
            "-- Epoch 31\n",
            "Norm: 1116.12, NNZs: 9, Bias: -708.727990, T: 17267, Avg. loss: 5303.614621\n",
            "Total training time: 0.05 seconds.\n",
            "-- Epoch 32\n",
            "Norm: 1131.57, NNZs: 9, Bias: -716.288740, T: 17824, Avg. loss: 6109.068211\n",
            "Total training time: 0.05 seconds.\n",
            "-- Epoch 33\n",
            "Norm: 1088.49, NNZs: 9, Bias: -722.034151, T: 18381, Avg. loss: 5285.874651\n",
            "Total training time: 0.05 seconds.\n",
            "Convergence after 33 epochs took 0.05 seconds\n",
            "73.97260273972603\n",
            "     PP   PN   \n",
            "AP   12   16   \n",
            "AN   3   42   \n",
            "PP: Predicted Positive, PN: Predicted Negative, AP: Actual Positive, AP: Actual Negative\n",
            "\n",
            "Accuracy:\n",
            "73.97260273972603\n",
            "\n",
            "Precision:\n",
            "0.8\n",
            "\n",
            "Recall:\n",
            "0.42857142857142855\n",
            "\n",
            "F1 score:\n",
            "0.5581395348837209\n"
          ]
        }
      ]
    },
    {
      "cell_type": "code",
      "metadata": {
        "colab": {
          "base_uri": "https://localhost:8080/",
          "height": 404
        },
        "id": "cEOUXB6ffGo-",
        "outputId": "09140270-58ce-4456-8c67-40a670a83c34"
      },
      "source": [
        "# Loss plot for SGDClassifier. Data obtained from run on which convergence was achieved in 33 epochs.\n",
        "loss_vec = [77571.286129, 61424.105854, 46158.670294, 35488.446643, 29396.716544, 26294.993074, 22551.942857, 21469.719487, 19551.222754, 15968.059318, 16057.837465, 13559.794649, 15081.937304, 10168.792924, 10058.814571, 10230.870481, 10129.307032, 9615.909219, 9291.123911, 7158.903822, 8363.726587, 8193.056471, 7163.387581, 7966.964149, 7080.219390, 6387.949238, 6566.594688, 4841.893529, 6116.388455, 5787.039624, 5303.614621, 6109.068211]\n",
        "plt.figure(figsize=(10,6))\n",
        "plt.plot(loss_vec,label='cost')\n",
        "plt.title('Change in loss wrt iterations sklearn')\n",
        "plt.xlabel('Iterations')\n",
        "plt.ylabel('Loss')\n",
        "plt.legend()\n",
        "plt.show()"
      ],
      "execution_count": 109,
      "outputs": [
        {
          "output_type": "display_data",
          "data": {
            "image/png": "[encoded data removed]",
            "text/plain": [
              "<Figure size 720x432 with 1 Axes>"
            ]
          },
          "metadata": {
            "needs_background": "light"
          }
        }
      ]
    },
    {
      "cell_type": "markdown",
      "metadata": {
        "id": "Ynqqtri2ybYx"
      },
      "source": [
        "# **Stochastic Gradient Descent**"
      ]
    },
    {
      "cell_type": "code",
      "metadata": {
        "id": "rkxNmR7uya7-"
      },
      "source": [
        "\n",
        "def display_matrix(true_pos, true_neg, false_pos, false_neg):\n",
        "    matrix = [['  ', 'PP', 'PN'], ['AP', true_pos, false_neg], ['AN', false_pos, true_neg]]\n",
        "    for i in matrix:\n",
        "        for j in i:\n",
        "            print(j, end = '   ')\n",
        "        print()\n",
        "    print('PP: Predicted Positive, PN: Predicted Negative, AP: Actual Positive, AP: Actual Negative')\n",
        "    accuracy = (1/(true_pos + true_neg + false_pos + false_neg))*(true_pos + true_neg)*100\n",
        "    print('\\nAccuracy:')\n",
        "    print(accuracy)\n",
        "    precision = (1/(true_pos + false_pos))*true_pos\n",
        "    print('\\nPrecision:')\n",
        "    print(precision)\n",
        "    recall = (1/(true_pos + false_neg))*true_pos\n",
        "    print('\\nRecall:')\n",
        "    print(recall)\n",
        "    f1score = (2/(precision + recall))*(precision*recall)\n",
        "    print('\\nF1 score:')\n",
        "    print(f1score)\n",
        "\n",
        "def confusion_matrix(y_pred, output):\n",
        "    true_pos = 0\n",
        "    true_neg = 0\n",
        "    false_pos = 0\n",
        "    false_neg = 0\n",
        "    ctr = 0\n",
        "    for i in y_pred:\n",
        "        if i == 1 and output[ctr] == 1:\n",
        "            true_pos += 1\n",
        "        elif i == 0 and output[ctr] == 0:\n",
        "            true_neg += 1\n",
        "        elif i == 1 and output[ctr] == 0:\n",
        "            false_pos += 1\n",
        "        elif i == 0 and output[ctr] == 1:\n",
        "            false_neg += 1\n",
        "        ctr += 1\n",
        "\n",
        "    display_matrix(true_pos, true_neg, false_pos, false_neg)\n",
        "\n",
        "\n",
        "# stochastic gradient descent for logistic regression\n",
        "\n",
        "def hypothesis(theta, x):\n",
        "    z = np.dot(x, theta) \n",
        "    return 1 / (1 + np.exp(-z))\n",
        "\n",
        "def stochastic_gradient_descent(input, output, learning_rate, itr):\n",
        "\n",
        "    h_theta_vec = []\n",
        "    theta_vec = []\n",
        "    cost_vec = []\n",
        "    \n",
        "    num_train_samples = np.shape(input)[0]\n",
        "    num_features = np.shape(input)[1]\n",
        "\n",
        "    # initialise model parameters and cost to zero\n",
        "    theta_curr = np.ones((num_features, 1))\n",
        "    cost = 0\n",
        "\n",
        "    y = np.array(output)\n",
        "    y = np.reshape(y, (y.shape[0], 1))\n",
        "    x = np.array(input)\n",
        "    len = x.shape[0]\n",
        "    \n",
        "    for i in range(itr):\n",
        "        index = np.random.permutation(len)\n",
        "        cost = 0\n",
        "        for j in index:\n",
        "\n",
        "            xi = x[j][:].T\n",
        "            yi = y[j]\n",
        "\n",
        "            # xi = np.reshape(xi, (xi.shape[0], 1))\n",
        "            yi = np.reshape(yi, (yi.shape[0], 1))\n",
        "\n",
        "            # predicted values\n",
        "            h_theta = hypothesis(theta_curr, xi)\n",
        "            h_theta_vec.append(h_theta)\n",
        "\n",
        "            # loss \n",
        "            loss = h_theta - yi\n",
        "\n",
        "            # cost\n",
        "            cost = (-1) * np.sum(yi * np.log(h_theta + 1e-15) + (1 - yi) * np.log(1 - h_theta  + 1e-15))\n",
        "            cost_vec.append(cost)\n",
        "            \n",
        "            # gradients\n",
        "            d_cost = xi * loss\n",
        "            \n",
        "            # step size\n",
        "            step = learning_rate*d_cost\n",
        "            \n",
        "            # update the parameters\n",
        "            theta_curr = theta_curr - step.T\n",
        "            theta_vec.append(theta_curr)\n",
        "\n",
        "    return cost_vec, theta_vec, h_theta_vec, theta_curr\n",
        "\n",
        "def predict_val(input, theta):\n",
        "    y = np.sum(np.dot(input, theta), axis = 1)\n",
        "    y_pred = []\n",
        "    for i in y:\n",
        "        if i > 0.5:\n",
        "            y_pred.append(1)\n",
        "        else:\n",
        "            y_pred.append(0)\n",
        "    return y_pred\n"
      ],
      "execution_count": 107,
      "outputs": []
    },
    {
      "cell_type": "code",
      "metadata": {
        "colab": {
          "base_uri": "https://localhost:8080/",
          "height": 681
        },
        "id": "dK9rD9kBy57Z",
        "outputId": "95f1ebcb-8613-4a37-ee2b-87c31a993c8c"
      },
      "source": [
        "itr = 1000\n",
        "learning_rate = 0.00005\n",
        "cost_vec, theta_vec, h_theta_vec, theta = stochastic_gradient_descent(X_train, Y_train, learning_rate, itr)\n",
        "y_pred = predict_val(X_train, theta)\n",
        "\n",
        "confusion_matrix(y_pred, Y_train)\n",
        "\n",
        "plt.figure(figsize=(10,6))\n",
        "plt.plot(cost_vec,label='cost')\n",
        "plt.title('Change in cost wrt iterations')\n",
        "plt.xlabel('Iterations')\n",
        "plt.ylabel('Cost')\n",
        "plt.legend()\n",
        "plt.show()"
      ],
      "execution_count": 111,
      "outputs": [
        {
          "output_type": "stream",
          "name": "stdout",
          "text": [
            "     PP   PN   \n",
            "AP   3   184   \n",
            "AN   2   368   \n",
            "PP: Predicted Positive, PN: Predicted Negative, AP: Actual Positive, AP: Actual Negative\n",
            "\n",
            "Accuracy:\n",
            "66.6068222621185\n",
            "\n",
            "Precision:\n",
            "0.6000000000000001\n",
            "\n",
            "Recall:\n",
            "0.0160427807486631\n",
            "\n",
            "F1 score:\n",
            "0.03125\n"
          ]
        },
        {
          "output_type": "display_data",
          "data": {
            "image/png": "[encoded data removed]",
            "text/plain": [
              "<Figure size 720x432 with 1 Axes>"
            ]
          },
          "metadata": {
            "needs_background": "light"
          }
        }
      ]
    },
    {
      "cell_type": "code",
      "metadata": {
        "id": "DhPgyYs5zGA0",
        "colab": {
          "base_uri": "https://localhost:8080/",
          "height": 681
        },
        "outputId": "cb121bd5-ddaf-4b6d-da7a-b65b0b2bba55"
      },
      "source": [
        "cost_vec, theta_vec, h_theta_vec, theta = stochastic_gradient_descent(X_val, Y_val, learning_rate, itr)\n",
        "y_pred = predict_val(X_val, theta)\n",
        "confusion_matrix(y_pred, Y_val)\n",
        "\n",
        "plt.figure(figsize=(10,6))\n",
        "plt.plot(cost_vec,label='cost')\n",
        "plt.title('Change in cost wrt iterations')\n",
        "plt.xlabel('Iterations')\n",
        "plt.ylabel('Cost')\n",
        "plt.legend()\n",
        "plt.show()"
      ],
      "execution_count": 113,
      "outputs": [
        {
          "output_type": "stream",
          "name": "stdout",
          "text": [
            "     PP   PN   \n",
            "AP   31   31   \n",
            "AN   24   81   \n",
            "PP: Predicted Positive, PN: Predicted Negative, AP: Actual Positive, AP: Actual Negative\n",
            "\n",
            "Accuracy:\n",
            "67.06586826347306\n",
            "\n",
            "Precision:\n",
            "0.5636363636363636\n",
            "\n",
            "Recall:\n",
            "0.5\n",
            "\n",
            "F1 score:\n",
            "0.5299145299145299\n"
          ]
        },
        {
          "output_type": "display_data",
          "data": {
            "image/png": "[encoded data removed]",
            "text/plain": [
              "<Figure size 720x432 with 1 Axes>"
            ]
          },
          "metadata": {
            "needs_background": "light"
          }
        }
      ]
    },
    {
      "cell_type": "code",
      "metadata": {
        "id": "VxHCC7TYeSOH",
        "colab": {
          "base_uri": "https://localhost:8080/"
        },
        "outputId": "260dfdc2-1625-4399-8fde-6f6a2696d2e4"
      },
      "source": [
        "y_pred = predict_val(X_test, theta)\n",
        "confusion_matrix(y_pred, Y_test)"
      ],
      "execution_count": 70,
      "outputs": [
        {
          "output_type": "stream",
          "name": "stdout",
          "text": [
            "(73, 9) (9, 9)\n",
            "     PP   PN   \n",
            "AP   28   0   \n",
            "AN   45   0   \n",
            "PP: Predicted Positive, PN: Predicted Negative, AP: Actual Positive, AP: Actual Negative\n",
            "\n",
            "Accuracy:\n",
            "38.35616438356164\n",
            "\n",
            "Precision:\n",
            "0.3835616438356164\n",
            "\n",
            "Recall:\n",
            "1.0\n",
            "\n",
            "F1 score:\n",
            "0.5544554455445544\n"
          ]
        }
      ]
    }
  ]
}